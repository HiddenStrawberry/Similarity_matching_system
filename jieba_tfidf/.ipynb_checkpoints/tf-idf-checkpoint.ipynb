{
 "cells": [
  {
   "cell_type": "markdown",
   "metadata": {},
   "source": [
    "## tf-idf"
   ]
  },
  {
   "cell_type": "markdown",
   "metadata": {},
   "source": [
    "#### 语料"
   ]
  },
  {
   "cell_type": "code",
   "execution_count": null,
   "metadata": {},
   "outputs": [],
   "source": [
    "corpus = [\n",
    "    '我在北京天安门',\n",
    "    '选择AI，就是选择未来',\n",
    "    '要么996要么icu',\n",
    "    '我爱加班，加班使我快乐'\n",
    "]"
   ]
  },
  {
   "cell_type": "markdown",
   "metadata": {},
   "source": [
    "#### 分词"
   ]
  },
  {
   "cell_type": "code",
   "execution_count": null,
   "metadata": {},
   "outputs": [],
   "source": [
    "import jieba"
   ]
  },
  {
   "cell_type": "code",
   "execution_count": null,
   "metadata": {},
   "outputs": [],
   "source": [
    "# 将停用词读出放在stopwords这个列表中\n",
    "filepath = r'stopwords.txt'\n",
    "stopwords = [line.strip() for line in open(filepath, 'r', encoding='utf-8').readlines()]"
   ]
  },
  {
   "cell_type": "code",
   "execution_count": null,
   "metadata": {},
   "outputs": [],
   "source": [
    "word_list = []\n",
    "for corpu in corpus:\n",
    "    seg_list = jieba.cut(corpu)\n",
    "    seg_list = [i for i in seg_list if i not in stopwords and i!=' '] \n",
    "    word_list.append(seg_list)\n",
    "print(word_list)"
   ]
  },
  {
   "cell_type": "markdown",
   "metadata": {},
   "source": [
    "#### 词袋模型"
   ]
  },
  {
   "cell_type": "code",
   "execution_count": null,
   "metadata": {},
   "outputs": [],
   "source": [
    "from gensim import corpora"
   ]
  },
  {
   "cell_type": "code",
   "execution_count": null,
   "metadata": {},
   "outputs": [],
   "source": [
    "dictionary = corpora.Dictionary(word_list)\n",
    "print(dictionary.token2id)"
   ]
  },
  {
   "cell_type": "code",
   "execution_count": null,
   "metadata": {},
   "outputs": [],
   "source": [
    "new_corpus = [dictionary.doc2bow(word) for word in word_list]\n",
    "print(new_corpus)"
   ]
  },
  {
   "cell_type": "code",
   "execution_count": null,
   "metadata": {},
   "outputs": [],
   "source": [
    "[[1,1,0,0,0,0,0,0,0,0],\n",
    " [0,0,1,1,2,0,0,0,0,0],\n",
    " [0,0,0,0,0,1,1,0,0,0],\n",
    " [0,0,0,0,0,0,0,2,1,1]]"
   ]
  },
  {
   "cell_type": "markdown",
   "metadata": {},
   "source": [
    "#### tfidf"
   ]
  },
  {
   "cell_type": "code",
   "execution_count": null,
   "metadata": {},
   "outputs": [],
   "source": [
    "from gensim import models"
   ]
  },
  {
   "cell_type": "code",
   "execution_count": null,
   "metadata": {},
   "outputs": [],
   "source": [
    "tfidf = models.TfidfModel(new_corpus)\n",
    "tfidf.save(\"my_model.tfidf\")"
   ]
  },
  {
   "cell_type": "code",
   "execution_count": null,
   "metadata": {},
   "outputs": [],
   "source": [
    "tfidf = models.TfidfModel.load(\"my_model.tfidf\")"
   ]
  },
  {
   "cell_type": "code",
   "execution_count": null,
   "metadata": {},
   "outputs": [],
   "source": [
    "tfidf_vec = []\n",
    "for i in new_corpus:\n",
    "    string_tfidf = tfidf[i]\n",
    "    tfidf_vec.append(string_tfidf)\n",
    "print(tfidf_vec)"
   ]
  },
  {
   "cell_type": "code",
   "execution_count": null,
   "metadata": {},
   "outputs": [],
   "source": []
  },
  {
   "cell_type": "code",
   "execution_count": null,
   "metadata": {},
   "outputs": [],
   "source": []
  },
  {
   "cell_type": "markdown",
   "metadata": {},
   "source": [
    "### 练习\n",
    "---\n",
    "下面给出一些实际的手机标题例子，大家把标题进行分词，然后计算每一个词的tf-idf"
   ]
  },
  {
   "cell_type": "code",
   "execution_count": null,
   "metadata": {},
   "outputs": [],
   "source": [
    "import jieba\n",
    "from gensim import corpora\n",
    "from gensim import models"
   ]
  },
  {
   "cell_type": "code",
   "execution_count": null,
   "metadata": {},
   "outputs": [],
   "source": [
    "demo_txt = [\n",
    "\"Apple iPhone 8 Plus (A1864) 64GB 深空灰色 移动联通电信4G手机\",\n",
    "\"荣耀 畅玩7X 4GB+32GB 全网通4G全面屏手机 标配版 铂光金\",\n",
    "\"Apple iPhone 8 (A1863) 64GB 深空灰色 移动联通电信4G手机\",\n",
    "\"Apple iPhone 7 Plus (A1661) 128G 黑色 移动联通电信4G手机\",\n",
    "\"小米 红米5 Plus 全面屏拍照手机 全网通版 3GB+32GB 金色 移动联通电信4G手机 双卡双待\",\n",
    "\"Apple iPhone 7 (A1660) 128G 黑色 移动联通电信4G手机\",\n",
    "\"Apple iPhone X (A1865) 64GB 深空灰色 移动联通电信4G手机\",\n",
    "\"小米 红米Note5A 移动4G+版全网通 4GB+64GB 铂银灰 移动联通电信4G手机 双卡双待 拍照手机\",\n",
    "\"荣耀 V10全网通 标配版 4GB+64GB 幻夜黑 移动联通电信4G全面屏手机 双卡双待\",\n",
    "\"荣耀 畅玩6 2GB+16GB 金色 全网通4G手机 双卡双待\",\n",
    "\"Apple iPhone 6s Plus (A1699) 128G 玫瑰金色 移动联通电信4G手机\",\n",
    "\"Apple iPhone 6 32GB 金色 移动联通电信4G手机\",\n",
    "\"小米Note3 美颜双摄拍照手机 6GB+64GB 黑色 全网通4G手机 双卡双待\",\n",
    "\"小米5X 美颜双摄拍照手机 4GB+64GB 金色 全网通4G手机 双卡双待\",\n",
    "\"魅族 魅蓝 Note6 3GB+32GB 全网通公开版 皓月银 移动联通电信4G手机 双卡双待\",\n",
    "\"荣耀畅玩7C 全面屏手机 全网通标配版 3GB+32GB 铂光金 移动联通电信4G手机 双卡双待\",\n",
    "\"Apple iPhone 5s (A1530) 16GB 金色 移动联通4G手机\",\n",
    "\"荣耀10  GT游戏加速 AIS手持夜景  6GB+64GB  幻影蓝全网通 移动联通电信4G 双卡双待\",\n",
    "]"
   ]
  },
  {
   "cell_type": "code",
   "execution_count": null,
   "metadata": {},
   "outputs": [],
   "source": []
  },
  {
   "cell_type": "code",
   "execution_count": null,
   "metadata": {},
   "outputs": [],
   "source": []
  }
 ],
 "metadata": {
  "kernelspec": {
   "display_name": "Python 3",
   "language": "python",
   "name": "python3"
  },
  "language_info": {
   "codemirror_mode": {
    "name": "ipython",
    "version": 3
   },
   "file_extension": ".py",
   "mimetype": "text/x-python",
   "name": "python",
   "nbconvert_exporter": "python",
   "pygments_lexer": "ipython3",
   "version": "3.6.4"
  }
 },
 "nbformat": 4,
 "nbformat_minor": 2
}
