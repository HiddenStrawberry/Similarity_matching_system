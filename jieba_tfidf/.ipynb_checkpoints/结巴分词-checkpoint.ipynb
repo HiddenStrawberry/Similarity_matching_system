{
 "cells": [
  {
   "cell_type": "markdown",
   "metadata": {},
   "source": [
    "# 结巴分词\n",
    "---\n",
    "“结巴”中文分词：做最好的 Python 中文分词组件"
   ]
  },
  {
   "cell_type": "markdown",
   "metadata": {},
   "source": [
    "## 特点\n",
    "----\n",
    "* 支持三种分词模式：\n",
    "* 精确模式，试图将句子最精确地切开，适合文本分析；\n",
    "* 全模式，把句子中所有的可以成词的词语都扫描出来, 速度非常快，但是不能解决歧义；\n",
    "* 搜索引擎模式，在精确模式的基础上，对长词再次切分，提高召回率，适合用于搜索引擎分词。\n",
    "* 支持繁体分词\n",
    "* 支持自定义词典\n",
    "* MIT 授权协议\n"
   ]
  },
  {
   "cell_type": "markdown",
   "metadata": {},
   "source": [
    "## 在线演示  \n",
    "---\n",
    "[jiebademo](http://cppjieba-webdemo.herokuapp.com/)  \n",
    "大家可以基于自己对分词的理解，简单的尝试一下"
   ]
  },
  {
   "cell_type": "markdown",
   "metadata": {},
   "source": [
    "## 算法\n",
    "----\n",
    "* 基于前缀词典实现高效的词图扫描，生成句子中汉字所有可能成词情况所构成的有向无环图 (DAG)\n",
    "* 采用了动态规划查找最大概率路径, 找出基于词频的最大切分组合\n",
    "* 对于未登录词，采用了基于汉字成词能力的 HMM 模型，使用了 Viterbi 算法\n",
    "\n"
   ]
  },
  {
   "cell_type": "markdown",
   "metadata": {},
   "source": [
    "## 主要功能\n",
    "---\n",
    "### 分词\n",
    "* jieba.cut 方法接受三个输入参数: 需要分词的字符串；cut_all 参数用来控制是否采用全模式；HMM 参数用来控制是否使用 HMM 模型\n",
    "\n",
    "\n",
    "* jieba.cut_for_search 方法接受两个参数：需要分词的字符串；是否使用 HMM 模型。该方法适合用于搜索引擎构建倒排索引的分词，粒度比较细\n",
    "\n",
    "\n",
    "* 待分词的字符串可以是 unicode 或 UTF-8 字符串、GBK 字符串。注意：不建议直接输入 GBK 字符串，可能无法预料地错误解码成 UTF-8\n",
    "\n",
    "\n",
    "* jieba.cut以及 jieba.cut_for_search 返回的结构都是一个可迭代的 generator，可以使用 for 循环来获得分词后得到的每一个词语(unicode)，或者用\n",
    "\n",
    "\n",
    "* jieba.lcut 以及jieba.lcut_for_search 直接返回 list\n",
    "\n",
    "\n"
   ]
  },
  {
   "cell_type": "code",
   "execution_count": null,
   "metadata": {},
   "outputs": [],
   "source": [
    "# encoding=utf-8\n",
    "import jieba\n",
    "\n",
    "seg_list = jieba.cut(\"我来到北京清华大学\", cut_all=True)\n",
    "print(\"Full Mode: \" + \"/ \".join(seg_list))  # 全模式\n",
    "\n",
    "seg_list = jieba.cut(\"我来到北京清华大学\", cut_all=False)\n",
    "print(\"Default Mode: \" + \"/ \".join(seg_list))  # 精确模式\n",
    "\n",
    "seg_list = jieba.cut(\"他来到了网易杭研大厦\")  # 默认是精确模式\n",
    "print(\", \".join(seg_list))\n",
    "\n",
    "seg_list = jieba.cut_for_search(\"小明硕士毕业于中国科学院计算所，后在日本京都大学深造\")  # 搜索引擎模式\n",
    "print(\", \".join(seg_list))\n"
   ]
  },
  {
   "cell_type": "markdown",
   "metadata": {},
   "source": [
    "### 添加自定义词典\n",
    "---\n",
    "\n",
    "* 开发者可以指定自己自定义的词典，以便包含 jieba 词库里没有的词。虽然 jieba 有新词识别能力，但是自行添加新词可以保证更高的正确率\n",
    "\n",
    "\n",
    "* 用法： jieba.load_userdict(file_name) # file_name 为文件类对象或自定义词典的路径\n",
    "\n",
    "\n",
    "* 词典格式和 dict.txt 一样，一个词占一行；每一行分三部分：词语、词频（可省略）、词性（可省略），用空格隔开，顺序不可颠倒。file_name 若为路径或二进制方式打开的文件，则文件必须为 UTF-8 编码。\n",
    "\n"
   ]
  },
  {
   "cell_type": "code",
   "execution_count": null,
   "metadata": {
    "scrolled": true
   },
   "outputs": [],
   "source": [
    "seg_list = jieba.cut(\"李小福是创新办主任也是云计算方面的专家\")  # 没有加自定义词典\n",
    "print(\", \".join(seg_list))\n",
    "\n",
    "jieba.load_userdict(\"userdict.txt\")\n",
    "seg_list = jieba.cut(\"李小福是创新办主任也是云计算方面的专家\")  # 添加自定义词典后\n",
    "print()\n",
    "print(\"这是自定义后结果: \")\n",
    "print(\", \".join(seg_list))"
   ]
  },
  {
   "cell_type": "markdown",
   "metadata": {},
   "source": [
    "### 去除停用词\n",
    "---\n",
    "停用词过滤,是文本分析中一个预处理方法。它的功能是过滤分词结果中的噪声(例如:的、是、啊等)"
   ]
  },
  {
   "cell_type": "code",
   "execution_count": null,
   "metadata": {},
   "outputs": [],
   "source": [
    "# 将停用词读出放在stopwords这个列表中\n",
    "filepath = r'stopwords.txt'\n",
    "stopwords = [line.strip() for line in open(filepath, 'r', encoding='utf-8').readlines()]"
   ]
  },
  {
   "cell_type": "code",
   "execution_count": null,
   "metadata": {},
   "outputs": [],
   "source": [
    "seg_list = jieba.cut(\"李小福是创新办主任也是云计算方面的专家\")  # 自定义词典保存在了结巴分词的缓存中\n",
    "seg_list = [i for i in seg_list if i not in stopwords]   # 当分出来的词不再停用词表中时，我们保留它\n",
    "print()\n",
    "print(\"这是自定义后结果: \")\n",
    "print(\", \".join(seg_list))"
   ]
  },
  {
   "cell_type": "code",
   "execution_count": null,
   "metadata": {},
   "outputs": [],
   "source": []
  },
  {
   "cell_type": "code",
   "execution_count": null,
   "metadata": {},
   "outputs": [],
   "source": []
  },
  {
   "cell_type": "markdown",
   "metadata": {},
   "source": [
    "### 练习\n",
    "---\n",
    "下面给出一些实际的手机标题例子，大家把标题进行分词，优化效果(加停用词和自定义字典)"
   ]
  },
  {
   "cell_type": "code",
   "execution_count": null,
   "metadata": {},
   "outputs": [],
   "source": [
    "demo_txt = \"\"\"\n",
    "Apple iPhone 8 Plus (A1864) 64GB 深空灰色 移动联通电信4G手机\n",
    "荣耀 畅玩7X 4GB+32GB 全网通4G全面屏手机 标配版 铂光金\n",
    "Apple iPhone 8 (A1863) 64GB 深空灰色 移动联通电信4G手机\n",
    "Apple iPhone 7 Plus (A1661) 128G 黑色 移动联通电信4G手机\n",
    "小米 红米5 Plus 全面屏拍照手机 全网通版 3GB+32GB 金色 移动联通电信4G手机 双卡双待\n",
    "Apple iPhone 7 (A1660) 128G 黑色 移动联通电信4G手机\n",
    "Apple iPhone X (A1865) 64GB 深空灰色 移动联通电信4G手机\n",
    "小米 红米Note5A 移动4G+版全网通 4GB+64GB 铂银灰 移动联通电信4G手机 双卡双待 拍照手机\n",
    "荣耀 V10全网通 标配版 4GB+64GB 幻夜黑 移动联通电信4G全面屏手机 双卡双待\n",
    "荣耀 畅玩6 2GB+16GB 金色 全网通4G手机 双卡双待\n",
    "Apple iPhone 6s Plus (A1699) 128G 玫瑰金色 移动联通电信4G手机\n",
    "Apple iPhone 6 32GB 金色 移动联通电信4G手机\n",
    "小米Note3 美颜双摄拍照手机 6GB+64GB 黑色 全网通4G手机 双卡双待\n",
    "小米5X 美颜双摄拍照手机 4GB+64GB 金色 全网通4G手机 双卡双待\n",
    "魅族 魅蓝 Note6 3GB+32GB 全网通公开版 皓月银 移动联通电信4G手机 双卡双待\n",
    "荣耀畅玩7C 全面屏手机 全网通标配版 3GB+32GB 铂光金 移动联通电信4G手机 双卡双待\n",
    "Apple iPhone 5s (A1530) 16GB 金色 移动联通4G手机\n",
    "荣耀10  GT游戏加速 AIS手持夜景  6GB+64GB  幻影蓝全网通 移动联通电信4G 双卡双待\n",
    "\"\"\""
   ]
  },
  {
   "cell_type": "code",
   "execution_count": null,
   "metadata": {},
   "outputs": [],
   "source": [
    "import jieba"
   ]
  },
  {
   "cell_type": "code",
   "execution_count": null,
   "metadata": {},
   "outputs": [],
   "source": [
    "# 使用结巴分词进行分词\n",
    "# TODO\n"
   ]
  },
  {
   "cell_type": "code",
   "execution_count": null,
   "metadata": {},
   "outputs": [],
   "source": []
  },
  {
   "cell_type": "code",
   "execution_count": null,
   "metadata": {},
   "outputs": [],
   "source": []
  }
 ],
 "metadata": {
  "kernelspec": {
   "display_name": "Python 3",
   "language": "python",
   "name": "python3"
  },
  "language_info": {
   "codemirror_mode": {
    "name": "ipython",
    "version": 3
   },
   "file_extension": ".py",
   "mimetype": "text/x-python",
   "name": "python",
   "nbconvert_exporter": "python",
   "pygments_lexer": "ipython3",
   "version": "3.6.4"
  }
 },
 "nbformat": 4,
 "nbformat_minor": 2
}
