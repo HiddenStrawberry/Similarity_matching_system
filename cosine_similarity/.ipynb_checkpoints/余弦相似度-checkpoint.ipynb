{
 "cells": [
  {
   "cell_type": "markdown",
   "metadata": {},
   "source": [
    "## 余弦相似度"
   ]
  },
  {
   "cell_type": "markdown",
   "metadata": {},
   "source": [
    "### 概念\n",
    "* 将向量根据坐标值，绘制到向量空间中。如最常见的二维空间。　　\n",
    "* 求得他们的夹角，并得出夹角对应的余弦值，此余弦值就可以用来表征，这两个向量的相似性。夹角越小，余弦值越接近于1，它们的方向更加吻合，则越相似。"
   ]
  },
  {
   "cell_type": "markdown",
   "metadata": {},
   "source": [
    "### 计算\n",
    "* 对于二维空间，根据向量点积公式显然可以得知：\n",
    "![avatar](余弦相似度_1.png)\n",
    "* 假设向量a、b的坐标分别为(x1,y1)、(x2,y2) 。则：\n",
    "![avatar](余弦相似度_2.png)\n",
    "* 设向量 A = (A1,A2,...,An)，B = (B1,B2,...,Bn) 。推广到多维:\n",
    "![avatar](余弦相似度_3.png)"
   ]
  },
  {
   "cell_type": "code",
   "execution_count": null,
   "metadata": {},
   "outputs": [],
   "source": [
    "import numpy as np"
   ]
  },
  {
   "cell_type": "code",
   "execution_count": null,
   "metadata": {},
   "outputs": [],
   "source": [
    "# 基于numpy的余弦相似性计算(公式可参考百度百科余弦相似度)\n",
    "def np_cos_Distance(vector1, vector2):\n",
    "    vec1 = np.array(vector1)\n",
    "    vec2 = np.array(vector2)\n",
    "    return float(np.sum(vec1 * vec2)) / (np.linalg.norm(vec1) * np.linalg.norm(vec2))"
   ]
  },
  {
   "cell_type": "code",
   "execution_count": null,
   "metadata": {},
   "outputs": [],
   "source": [
    "vector1 = [0.1,0.5,0.36,0.44,0.21,0.96,0.35,0.4,0.16,0.22]\n",
    "vector2 = [0.22,0.59,0.44,0.37,0.55,0.95,0.44,0.64,0.18,0.22]\n",
    "vector3 = [0.72,0.29,0.44,0.88,0.55,0.49,0.74,0.36,0.8,0.62]\n",
    "print(len(vector1))\n",
    "print(len(vector2))\n",
    "print(len(vector3))"
   ]
  },
  {
   "cell_type": "code",
   "execution_count": null,
   "metadata": {
    "scrolled": true
   },
   "outputs": [],
   "source": [
    "cos_dis = np_cos_Distance(vector1, vector2)\n",
    "print(cos_dis)"
   ]
  },
  {
   "cell_type": "code",
   "execution_count": null,
   "metadata": {},
   "outputs": [],
   "source": [
    "cos_dis = np_cos_Distance(vector1, vector3)\n",
    "print(cos_dis)"
   ]
  },
  {
   "cell_type": "code",
   "execution_count": null,
   "metadata": {},
   "outputs": [],
   "source": []
  }
 ],
 "metadata": {
  "kernelspec": {
   "display_name": "Python 3",
   "language": "python",
   "name": "python3"
  },
  "language_info": {
   "codemirror_mode": {
    "name": "ipython",
    "version": 3
   },
   "file_extension": ".py",
   "mimetype": "text/x-python",
   "name": "python",
   "nbconvert_exporter": "python",
   "pygments_lexer": "ipython3",
   "version": "3.6.4"
  }
 },
 "nbformat": 4,
 "nbformat_minor": 2
}
